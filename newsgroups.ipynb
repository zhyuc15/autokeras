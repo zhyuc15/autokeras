{
 "cells": [
  {
   "cell_type": "code",
   "execution_count": null,
   "metadata": {
    "colab": {
     "base_uri": "https://localhost:8080/"
    },
    "executionInfo": {
     "elapsed": 92180,
     "status": "ok",
     "timestamp": 1635089046752,
     "user": {
      "displayName": "alankrantas",
      "photoUrl": "https://lh3.googleusercontent.com/a-/AOh14GhDYBaFXq1fszi40PRbrnFB3PL2vzFVMyFJPuuLmhU=s64",
      "userId": "01089948263367265529"
     },
     "user_tz": -480
    },
    "id": "8LJj-tuUIBjF",
    "outputId": "22332a85-a4cf-4164-affd-435de2744ae3"
   },
   "outputs": [],
   "source": [
    "# 第一次在 Google Colab/Jupyter Notebook 執行請安裝 AutoKeras\n",
    "\n",
    "!pip3 install autokeras"
   ]
  },
  {
   "cell_type": "code",
   "execution_count": null,
   "metadata": {
    "id": "o5jh9NklIBjI"
   },
   "outputs": [],
   "source": [
    "# 若第一次在本機使用 Jupyter Notebook, 移除下一行的 # 號並執行之\n",
    "# (Windows 使用者也得先安裝 https://graphviz.org/download/#windows)\n",
    "\n",
    "#!pip3 install pydot pydot-ng pydotplus graphviz\n",
    "\n",
    "# 安裝完成後重啟 Python kernel (Kernel -> Restart)"
   ]
  },
  {
   "cell_type": "code",
   "execution_count": null,
   "metadata": {
    "executionInfo": {
     "elapsed": 2515,
     "status": "ok",
     "timestamp": 1635089049253,
     "user": {
      "displayName": "alankrantas",
      "photoUrl": "https://lh3.googleusercontent.com/a-/AOh14GhDYBaFXq1fszi40PRbrnFB3PL2vzFVMyFJPuuLmhU=s64",
      "userId": "01089948263367265529"
     },
     "user_tz": -480
    },
    "id": "xeAHy5YzIBjJ"
   },
   "outputs": [],
   "source": [
    "import numpy as np\n",
    "import matplotlib.pyplot as plt\n",
    "import tensorflow as tf\n",
    "import autokeras as ak"
   ]
  },
  {
   "cell_type": "code",
   "execution_count": null,
   "metadata": {
    "colab": {
     "base_uri": "https://localhost:8080/"
    },
    "executionInfo": {
     "elapsed": 10718,
     "status": "ok",
     "timestamp": 1635089059945,
     "user": {
      "displayName": "alankrantas",
      "photoUrl": "https://lh3.googleusercontent.com/a-/AOh14GhDYBaFXq1fszi40PRbrnFB3PL2vzFVMyFJPuuLmhU=s64",
      "userId": "01089948263367265529"
     },
     "user_tz": -480
    },
    "id": "TpS2p4Vg6Po3",
    "outputId": "bf6db6a2-aaed-427a-ff61-a141c689b57c"
   },
   "outputs": [],
   "source": [
    "from sklearn.datasets import fetch_20newsgroups\n",
    "\n",
    "train = fetch_20newsgroups(subset='train')\n",
    "train.target_names"
   ]
  },
  {
   "cell_type": "code",
   "execution_count": null,
   "metadata": {
    "colab": {
     "base_uri": "https://localhost:8080/"
    },
    "executionInfo": {
     "elapsed": 4033,
     "status": "ok",
     "timestamp": 1635096412678,
     "user": {
      "displayName": "alankrantas",
      "photoUrl": "https://lh3.googleusercontent.com/a-/AOh14GhDYBaFXq1fszi40PRbrnFB3PL2vzFVMyFJPuuLmhU=s64",
      "userId": "01089948263367265529"
     },
     "user_tz": -480
    },
    "id": "dmuxSojeIBjK",
    "outputId": "6849b7a1-2678-4b5e-94b9-ee70dd753d7d"
   },
   "outputs": [],
   "source": [
    "categories = ['comp.sys.ibm.pc.hardware',\n",
    "              'rec.autos',\n",
    "              'rec.sport.baseball', \n",
    "              'sci.med',\n",
    "              'sci.space',\n",
    "              'talk.politics.mideast']\n",
    "\n",
    "train = fetch_20newsgroups(subset='train', \n",
    "                           categories=categories,\n",
    "                           remove=('headers', 'footers', 'quotes'))\n",
    "test = fetch_20newsgroups(subset='test',\n",
    "                          categories=categories,\n",
    "                          remove=('headers', 'footers', 'quotes'))\n",
    "\n",
    "x_train = np.array(train.data)\n",
    "y_train = np.array(train.target)\n",
    "x_test = np.array(test.data)\n",
    "y_test = np.array(test.target)\n",
    "\n",
    "print(x_train.shape)\n",
    "print(x_test.shape)"
   ]
  },
  {
   "cell_type": "code",
   "execution_count": null,
   "metadata": {
    "colab": {
     "base_uri": "https://localhost:8080/",
     "height": 297
    },
    "executionInfo": {
     "elapsed": 968,
     "status": "ok",
     "timestamp": 1635096434131,
     "user": {
      "displayName": "alankrantas",
      "photoUrl": "https://lh3.googleusercontent.com/a-/AOh14GhDYBaFXq1fszi40PRbrnFB3PL2vzFVMyFJPuuLmhU=s64",
      "userId": "01089948263367265529"
     },
     "user_tz": -480
    },
    "id": "Il97ceOJXqZS",
    "outputId": "42eaf181-a2f0-445c-ce46-1da596147bcc"
   },
   "outputs": [],
   "source": [
    "fig = plt.figure()\n",
    "bin = np.arange(len(categories) + 1)\n",
    "\n",
    "labels = ('PC hardware', 'Automobile', 'Baseball', \n",
    "          'Medicine', 'Space', 'Politics', '')\n",
    "\n",
    "ax = fig.add_subplot(1, 2, 1)\n",
    "ax.set_xticks(bin)\n",
    "ax.set_xticklabels(labels, rotation=90)\n",
    "plt.hist(y_train, bins=bin-0.5, rwidth=0.9)\n",
    "ax.set_title('Train dataset histogram')\n",
    "\n",
    "ax = fig.add_subplot(1, 2, 2)\n",
    "ax.set_xticks(bin)\n",
    "ax.set_xticklabels(labels, rotation=90)\n",
    "plt.hist(y_test, bins=bin-0.5, rwidth=0.9)\n",
    "ax.set_title('Test dataset histogram')\n",
    "\n",
    "plt.tight_layout()\n",
    "plt.show()"
   ]
  },
  {
   "cell_type": "code",
   "execution_count": null,
   "metadata": {
    "colab": {
     "base_uri": "https://localhost:8080/"
    },
    "executionInfo": {
     "elapsed": 2244530,
     "status": "ok",
     "timestamp": 1635107613067,
     "user": {
      "displayName": "alankrantas",
      "photoUrl": "https://lh3.googleusercontent.com/a-/AOh14GhDYBaFXq1fszi40PRbrnFB3PL2vzFVMyFJPuuLmhU=s64",
      "userId": "01089948263367265529"
     },
     "user_tz": -480
    },
    "id": "3uwgN3Z0IBjM",
    "outputId": "01c603a3-813f-437b-d16d-fabb872c318e",
    "scrolled": false
   },
   "outputs": [],
   "source": [
    "from keras_tuner.engine.hyperparameters import Choice\n",
    "\n",
    "pretraining = Choice(name='pretraining', values=['word2vec'])\n",
    "num_blocks = Choice(name='num_blocks', values=[1])\n",
    "\n",
    "cbs = [tf.keras.callbacks.EarlyStopping(patience=3)]\n",
    "\n",
    "input_node = ak.TextInput()\n",
    "\n",
    "output_node = ak.TextToIntSequence(max_tokens=50000)(input_node)\n",
    "output_node = ak.Embedding(\n",
    "    pretraining=pretraining, max_features=50000)(output_node)\n",
    "output_node = ak.ConvBlock( \n",
    "    num_blocks=num_blocks, separable=True, max_pooling=True)(output_node)\n",
    "output_node = ak.SpatialReduction(reduction_type='global_max')(output_node)\n",
    "output_node = ak.ClassificationHead()(output_node)\n",
    "\n",
    "clf = ak.AutoModel(inputs=input_node, outputs=output_node, \n",
    "                   max_trials=20, overwrite=True)\n",
    "clf.fit(x_train, y_train, callbacks=cbs)"
   ]
  },
  {
   "cell_type": "code",
   "execution_count": null,
   "metadata": {
    "colab": {
     "base_uri": "https://localhost:8080/"
    },
    "executionInfo": {
     "elapsed": 8092,
     "status": "ok",
     "timestamp": 1635107622037,
     "user": {
      "displayName": "alankrantas",
      "photoUrl": "https://lh3.googleusercontent.com/a-/AOh14GhDYBaFXq1fszi40PRbrnFB3PL2vzFVMyFJPuuLmhU=s64",
      "userId": "01089948263367265529"
     },
     "user_tz": -480
    },
    "id": "NgCErsD6IBjM",
    "outputId": "28767579-9c46-433a-8d7a-f87655dc5393"
   },
   "outputs": [],
   "source": [
    "clf.evaluate(x_test, y_test)"
   ]
  },
  {
   "cell_type": "code",
   "execution_count": null,
   "metadata": {
    "colab": {
     "base_uri": "https://localhost:8080/"
    },
    "executionInfo": {
     "elapsed": 6902,
     "status": "ok",
     "timestamp": 1635108290271,
     "user": {
      "displayName": "alankrantas",
      "photoUrl": "https://lh3.googleusercontent.com/a-/AOh14GhDYBaFXq1fszi40PRbrnFB3PL2vzFVMyFJPuuLmhU=s64",
      "userId": "01089948263367265529"
     },
     "user_tz": -480
    },
    "id": "bZheVQQKJRR9",
    "outputId": "71c6c4f3-c5f5-425f-91b7-93afe9f4e12c"
   },
   "outputs": [],
   "source": [
    "predicted = clf.predict(x_test).flatten().astype('uint8')\n",
    "\n",
    "for i in range(10):\n",
    "    print('TEXT [')\n",
    "    print(x_test[i].strip()[:400])\n",
    "    print(f'] PREDICTED: {labels[predicted[i]]}, REAL: {labels[y_test[i]]}')\n",
    "    print('')"
   ]
  },
  {
   "cell_type": "code",
   "execution_count": null,
   "metadata": {
    "colab": {
     "base_uri": "https://localhost:8080/"
    },
    "executionInfo": {
     "elapsed": 308,
     "status": "ok",
     "timestamp": 1635107723094,
     "user": {
      "displayName": "alankrantas",
      "photoUrl": "https://lh3.googleusercontent.com/a-/AOh14GhDYBaFXq1fszi40PRbrnFB3PL2vzFVMyFJPuuLmhU=s64",
      "userId": "01089948263367265529"
     },
     "user_tz": -480
    },
    "id": "8clAUW2_6yze",
    "outputId": "d457dddb-d635-4597-bfbc-61ff9a3a729c"
   },
   "outputs": [],
   "source": [
    "labels = ('PC hardware', 'Automobile', 'Baseball', \n",
    "          'Medicine', 'Space', 'Politics')\n",
    "\n",
    "from sklearn.metrics import classification_report\n",
    "print(classification_report(y_test, predicted, target_names=labels))"
   ]
  },
  {
   "cell_type": "code",
   "execution_count": null,
   "metadata": {
    "colab": {
     "base_uri": "https://localhost:8080/"
    },
    "executionInfo": {
     "elapsed": 1397,
     "status": "ok",
     "timestamp": 1635108425391,
     "user": {
      "displayName": "alankrantas",
      "photoUrl": "https://lh3.googleusercontent.com/a-/AOh14GhDYBaFXq1fszi40PRbrnFB3PL2vzFVMyFJPuuLmhU=s64",
      "userId": "01089948263367265529"
     },
     "user_tz": -480
    },
    "id": "wp8xqGZBIBjN",
    "outputId": "db133964-e25e-498c-fae7-faef4b2fe52f"
   },
   "outputs": [],
   "source": [
    "model = clf.export_model()\n",
    "model.summary()"
   ]
  },
  {
   "cell_type": "code",
   "execution_count": null,
   "metadata": {
    "colab": {
     "base_uri": "https://localhost:8080/",
     "height": 1000
    },
    "executionInfo": {
     "elapsed": 1345,
     "status": "ok",
     "timestamp": 1635108450232,
     "user": {
      "displayName": "alankrantas",
      "photoUrl": "https://lh3.googleusercontent.com/a-/AOh14GhDYBaFXq1fszi40PRbrnFB3PL2vzFVMyFJPuuLmhU=s64",
      "userId": "01089948263367265529"
     },
     "user_tz": -480
    },
    "id": "6twouYtRIBjN",
    "outputId": "c1748ed7-4f4f-47e5-bf33-f70e425b46e3"
   },
   "outputs": [],
   "source": [
    "from tensorflow.keras.utils import plot_model\n",
    "plot_model(model)"
   ]
  }
 ],
 "metadata": {
  "colab": {
   "collapsed_sections": [],
   "name": "newsgroups.ipynb",
   "provenance": []
  },
  "interpreter": {
   "hash": "928d9df29a63b05b2e555cd60ea4eee28f9001e7e8e629f6818d3732a69cca46"
  },
  "kernelspec": {
   "display_name": "Python 3",
   "language": "python",
   "name": "python3"
  },
  "language_info": {
   "codemirror_mode": {
    "name": "ipython",
    "version": 3
   },
   "file_extension": ".py",
   "mimetype": "text/x-python",
   "name": "python",
   "nbconvert_exporter": "python",
   "pygments_lexer": "ipython3",
   "version": "3.8.8"
  }
 },
 "nbformat": 4,
 "nbformat_minor": 1
}
