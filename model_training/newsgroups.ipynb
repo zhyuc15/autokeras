{
 "cells": [
  {
   "cell_type": "code",
   "execution_count": 1,
   "metadata": {
    "colab": {
     "base_uri": "https://localhost:8080/"
    },
    "executionInfo": {
     "elapsed": 92180,
     "status": "ok",
     "timestamp": 1635089046752,
     "user": {
      "displayName": "alankrantas",
      "photoUrl": "https://lh3.googleusercontent.com/a-/AOh14GhDYBaFXq1fszi40PRbrnFB3PL2vzFVMyFJPuuLmhU=s64",
      "userId": "01089948263367265529"
     },
     "user_tz": -480
    },
    "id": "8LJj-tuUIBjF",
    "outputId": "22332a85-a4cf-4164-affd-435de2744ae3"
   },
   "outputs": [
    {
     "name": "stdout",
     "output_type": "stream",
     "text": [
      "Defaulting to user installation because normal site-packages is not writeable\n",
      "Looking in indexes: https://pypi.org/simple, https://www.piwheels.org/simple\n",
      "Requirement already satisfied: autokeras in /home/pi/.local/lib/python3.9/site-packages (1.0.19)\n",
      "Requirement already satisfied: tensorflow>=2.8.0 in /usr/local/lib/python3.9/dist-packages (from autokeras) (2.8.0)\n",
      "Requirement already satisfied: pandas in /home/pi/.local/lib/python3.9/site-packages (from autokeras) (1.3.3)\n",
      "Requirement already satisfied: packaging in /home/pi/.local/lib/python3.9/site-packages (from autokeras) (21.3)\n",
      "Requirement already satisfied: keras-tuner>=1.1.0 in /home/pi/.local/lib/python3.9/site-packages (from autokeras) (1.1.2)\n",
      "Requirement already satisfied: ipython in /home/pi/.local/lib/python3.9/site-packages (from keras-tuner>=1.1.0->autokeras) (8.3.0)\n",
      "Requirement already satisfied: tensorboard in /usr/local/lib/python3.9/dist-packages (from keras-tuner>=1.1.0->autokeras) (2.8.0)\n",
      "Requirement already satisfied: requests in /usr/lib/python3/dist-packages (from keras-tuner>=1.1.0->autokeras) (2.25.1)\n",
      "Requirement already satisfied: numpy in /usr/local/lib/python3.9/dist-packages (from keras-tuner>=1.1.0->autokeras) (1.22.3)\n",
      "Requirement already satisfied: kt-legacy in /home/pi/.local/lib/python3.9/site-packages (from keras-tuner>=1.1.0->autokeras) (1.0.4)\n",
      "Requirement already satisfied: astunparse>=1.6.0 in /usr/local/lib/python3.9/dist-packages (from tensorflow>=2.8.0->autokeras) (1.6.3)\n",
      "Requirement already satisfied: tf-estimator-nightly==2.8.0.dev2021122109 in /usr/local/lib/python3.9/dist-packages (from tensorflow>=2.8.0->autokeras) (2.8.0.dev2021122109)\n",
      "Requirement already satisfied: flatbuffers>=1.12 in /usr/local/lib/python3.9/dist-packages (from tensorflow>=2.8.0->autokeras) (20181003210633)\n",
      "Requirement already satisfied: six>=1.12.0 in /usr/lib/python3/dist-packages (from tensorflow>=2.8.0->autokeras) (1.16.0)\n",
      "Requirement already satisfied: setuptools in /usr/local/lib/python3.9/dist-packages (from tensorflow>=2.8.0->autokeras) (62.2.0)\n",
      "Requirement already satisfied: absl-py>=0.4.0 in /usr/local/lib/python3.9/dist-packages (from tensorflow>=2.8.0->autokeras) (1.0.0)\n",
      "Requirement already satisfied: keras<2.9,>=2.8.0rc0 in /usr/local/lib/python3.9/dist-packages (from tensorflow>=2.8.0->autokeras) (2.8.0)\n",
      "Requirement already satisfied: keras-preprocessing>=1.1.1 in /usr/local/lib/python3.9/dist-packages (from tensorflow>=2.8.0->autokeras) (1.1.2)\n",
      "Requirement already satisfied: tensorflow-io-gcs-filesystem>=0.23.1 in /usr/local/lib/python3.9/dist-packages (from tensorflow>=2.8.0->autokeras) (0.23.1)\n",
      "Requirement already satisfied: wrapt>=1.11.0 in /usr/local/lib/python3.9/dist-packages (from tensorflow>=2.8.0->autokeras) (1.14.1)\n",
      "Requirement already satisfied: h5py>=2.9.0 in /usr/local/lib/python3.9/dist-packages (from tensorflow>=2.8.0->autokeras) (3.6.0)\n",
      "Requirement already satisfied: typing-extensions>=3.6.6 in /usr/lib/python3/dist-packages (from tensorflow>=2.8.0->autokeras) (3.7.4.3)\n",
      "Requirement already satisfied: libclang>=9.0.1 in /usr/local/lib/python3.9/dist-packages (from tensorflow>=2.8.0->autokeras) (14.0.1)\n",
      "Requirement already satisfied: gast>=0.2.1 in /usr/local/lib/python3.9/dist-packages (from tensorflow>=2.8.0->autokeras) (0.5.3)\n",
      "Requirement already satisfied: termcolor>=1.1.0 in /usr/local/lib/python3.9/dist-packages (from tensorflow>=2.8.0->autokeras) (1.1.0)\n",
      "Requirement already satisfied: grpcio<2.0,>=1.24.3 in /usr/local/lib/python3.9/dist-packages (from tensorflow>=2.8.0->autokeras) (1.46.1)\n",
      "Requirement already satisfied: protobuf>=3.9.2 in /usr/local/lib/python3.9/dist-packages (from tensorflow>=2.8.0->autokeras) (3.20.1)\n",
      "Requirement already satisfied: opt-einsum>=2.3.2 in /usr/local/lib/python3.9/dist-packages (from tensorflow>=2.8.0->autokeras) (3.3.0)\n",
      "Requirement already satisfied: google-pasta>=0.1.1 in /usr/local/lib/python3.9/dist-packages (from tensorflow>=2.8.0->autokeras) (0.2.0)\n",
      "Requirement already satisfied: pyparsing!=3.0.5,>=2.0.2 in /home/pi/.local/lib/python3.9/site-packages (from packaging->autokeras) (3.0.9)\n",
      "Requirement already satisfied: pytz>=2017.3 in /home/pi/.local/lib/python3.9/site-packages (from pandas->autokeras) (2022.1)\n",
      "Requirement already satisfied: python-dateutil>=2.7.3 in /home/pi/.local/lib/python3.9/site-packages (from pandas->autokeras) (2.8.2)\n",
      "Requirement already satisfied: wheel<1.0,>=0.23.0 in /usr/local/lib/python3.9/dist-packages (from astunparse>=1.6.0->tensorflow>=2.8.0->autokeras) (0.37.1)\n",
      "Requirement already satisfied: google-auth<3,>=1.6.3 in /usr/local/lib/python3.9/dist-packages (from tensorboard->keras-tuner>=1.1.0->autokeras) (2.6.6)\n",
      "Requirement already satisfied: tensorboard-data-server<0.7.0,>=0.6.0 in /usr/local/lib/python3.9/dist-packages (from tensorboard->keras-tuner>=1.1.0->autokeras) (0.6.1)\n",
      "Requirement already satisfied: markdown>=2.6.8 in /usr/local/lib/python3.9/dist-packages (from tensorboard->keras-tuner>=1.1.0->autokeras) (3.3.7)\n",
      "Requirement already satisfied: werkzeug>=0.11.15 in /usr/lib/python3/dist-packages (from tensorboard->keras-tuner>=1.1.0->autokeras) (1.0.1)\n",
      "Requirement already satisfied: google-auth-oauthlib<0.5,>=0.4.1 in /usr/local/lib/python3.9/dist-packages (from tensorboard->keras-tuner>=1.1.0->autokeras) (0.4.6)\n",
      "Requirement already satisfied: tensorboard-plugin-wit>=1.6.0 in /usr/local/lib/python3.9/dist-packages (from tensorboard->keras-tuner>=1.1.0->autokeras) (1.8.1)\n",
      "Requirement already satisfied: pickleshare in /home/pi/.local/lib/python3.9/site-packages (from ipython->keras-tuner>=1.1.0->autokeras) (0.7.5)\n",
      "Requirement already satisfied: pygments>=2.4.0 in /usr/lib/python3/dist-packages (from ipython->keras-tuner>=1.1.0->autokeras) (2.7.1)\n",
      "Requirement already satisfied: traitlets>=5 in /home/pi/.local/lib/python3.9/site-packages (from ipython->keras-tuner>=1.1.0->autokeras) (5.2.0)\n",
      "Requirement already satisfied: stack-data in /home/pi/.local/lib/python3.9/site-packages (from ipython->keras-tuner>=1.1.0->autokeras) (0.2.0)\n",
      "Requirement already satisfied: backcall in /home/pi/.local/lib/python3.9/site-packages (from ipython->keras-tuner>=1.1.0->autokeras) (0.2.0)\n",
      "Requirement already satisfied: jedi>=0.16 in /usr/lib/python3/dist-packages (from ipython->keras-tuner>=1.1.0->autokeras) (0.18.0)\n",
      "Requirement already satisfied: prompt-toolkit!=3.0.0,!=3.0.1,<3.1.0,>=2.0.0 in /home/pi/.local/lib/python3.9/site-packages (from ipython->keras-tuner>=1.1.0->autokeras) (3.0.29)\n",
      "Requirement already satisfied: matplotlib-inline in /home/pi/.local/lib/python3.9/site-packages (from ipython->keras-tuner>=1.1.0->autokeras) (0.1.3)\n",
      "Requirement already satisfied: decorator in /home/pi/.local/lib/python3.9/site-packages (from ipython->keras-tuner>=1.1.0->autokeras) (5.1.1)\n",
      "Requirement already satisfied: pexpect>4.3 in /usr/lib/python3/dist-packages (from ipython->keras-tuner>=1.1.0->autokeras) (4.8.0)\n",
      "Requirement already satisfied: rsa<5,>=3.1.4 in /usr/local/lib/python3.9/dist-packages (from google-auth<3,>=1.6.3->tensorboard->keras-tuner>=1.1.0->autokeras) (4.8)\n",
      "Requirement already satisfied: pyasn1-modules>=0.2.1 in /usr/local/lib/python3.9/dist-packages (from google-auth<3,>=1.6.3->tensorboard->keras-tuner>=1.1.0->autokeras) (0.2.8)\n",
      "Requirement already satisfied: cachetools<6.0,>=2.0.0 in /usr/local/lib/python3.9/dist-packages (from google-auth<3,>=1.6.3->tensorboard->keras-tuner>=1.1.0->autokeras) (5.0.0)\n",
      "Requirement already satisfied: requests-oauthlib>=0.7.0 in /usr/lib/python3/dist-packages (from google-auth-oauthlib<0.5,>=0.4.1->tensorboard->keras-tuner>=1.1.0->autokeras) (1.0.0)\n",
      "Requirement already satisfied: importlib-metadata>=4.4 in /usr/local/lib/python3.9/dist-packages (from markdown>=2.6.8->tensorboard->keras-tuner>=1.1.0->autokeras) (4.11.3)\n",
      "Requirement already satisfied: wcwidth in /home/pi/.local/lib/python3.9/site-packages (from prompt-toolkit!=3.0.0,!=3.0.1,<3.1.0,>=2.0.0->ipython->keras-tuner>=1.1.0->autokeras) (0.2.5)\n",
      "Requirement already satisfied: asttokens in /usr/lib/python3/dist-packages (from stack-data->ipython->keras-tuner>=1.1.0->autokeras) (2.0.4)\n",
      "Requirement already satisfied: executing in /home/pi/.local/lib/python3.9/site-packages (from stack-data->ipython->keras-tuner>=1.1.0->autokeras) (0.8.3)\n",
      "Requirement already satisfied: pure-eval in /home/pi/.local/lib/python3.9/site-packages (from stack-data->ipython->keras-tuner>=1.1.0->autokeras) (0.2.2)\n",
      "Requirement already satisfied: zipp>=0.5 in /usr/local/lib/python3.9/dist-packages (from importlib-metadata>=4.4->markdown>=2.6.8->tensorboard->keras-tuner>=1.1.0->autokeras) (3.8.0)\n",
      "Requirement already satisfied: pyasn1<0.5.0,>=0.4.6 in /usr/local/lib/python3.9/dist-packages (from pyasn1-modules>=0.2.1->google-auth<3,>=1.6.3->tensorboard->keras-tuner>=1.1.0->autokeras) (0.4.8)\n"
     ]
    }
   ],
   "source": [
    "# 第一次在 Google Colab/Jupyter Notebook 執行請安裝 AutoKeras\n",
    "\n",
    "!pip3 install autokeras"
   ]
  },
  {
   "cell_type": "code",
   "execution_count": 2,
   "metadata": {
    "id": "o5jh9NklIBjI"
   },
   "outputs": [],
   "source": [
    "# 若第一次在本機使用 Jupyter Notebook, 移除下一行的 # 號並執行之\n",
    "# (Windows 使用者也得先安裝 https://graphviz.org/download/#windows)\n",
    "\n",
    "#!pip3 install pydot pydot-ng pydotplus graphviz\n",
    "\n",
    "# 安裝完成後重啟 Python kernel (Kernel -> Restart)"
   ]
  },
  {
   "cell_type": "code",
   "execution_count": 3,
   "metadata": {
    "executionInfo": {
     "elapsed": 2515,
     "status": "ok",
     "timestamp": 1635089049253,
     "user": {
      "displayName": "alankrantas",
      "photoUrl": "https://lh3.googleusercontent.com/a-/AOh14GhDYBaFXq1fszi40PRbrnFB3PL2vzFVMyFJPuuLmhU=s64",
      "userId": "01089948263367265529"
     },
     "user_tz": -480
    },
    "id": "xeAHy5YzIBjJ"
   },
   "outputs": [],
   "source": [
    "import numpy as np\n",
    "import matplotlib.pyplot as plt\n",
    "import tensorflow as tf\n",
    "import autokeras as ak"
   ]
  },
  {
   "cell_type": "code",
   "execution_count": 4,
   "metadata": {
    "colab": {
     "base_uri": "https://localhost:8080/"
    },
    "executionInfo": {
     "elapsed": 10718,
     "status": "ok",
     "timestamp": 1635089059945,
     "user": {
      "displayName": "alankrantas",
      "photoUrl": "https://lh3.googleusercontent.com/a-/AOh14GhDYBaFXq1fszi40PRbrnFB3PL2vzFVMyFJPuuLmhU=s64",
      "userId": "01089948263367265529"
     },
     "user_tz": -480
    },
    "id": "TpS2p4Vg6Po3",
    "outputId": "bf6db6a2-aaed-427a-ff61-a141c689b57c"
   },
   "outputs": [
    {
     "data": {
      "text/plain": [
       "['alt.atheism',\n",
       " 'comp.graphics',\n",
       " 'comp.os.ms-windows.misc',\n",
       " 'comp.sys.ibm.pc.hardware',\n",
       " 'comp.sys.mac.hardware',\n",
       " 'comp.windows.x',\n",
       " 'misc.forsale',\n",
       " 'rec.autos',\n",
       " 'rec.motorcycles',\n",
       " 'rec.sport.baseball',\n",
       " 'rec.sport.hockey',\n",
       " 'sci.crypt',\n",
       " 'sci.electronics',\n",
       " 'sci.med',\n",
       " 'sci.space',\n",
       " 'soc.religion.christian',\n",
       " 'talk.politics.guns',\n",
       " 'talk.politics.mideast',\n",
       " 'talk.politics.misc',\n",
       " 'talk.religion.misc']"
      ]
     },
     "execution_count": 4,
     "metadata": {},
     "output_type": "execute_result"
    }
   ],
   "source": [
    "from sklearn.datasets import fetch_20newsgroups\n",
    "\n",
    "train = fetch_20newsgroups(subset='train')\n",
    "train.target_names"
   ]
  },
  {
   "cell_type": "code",
   "execution_count": 5,
   "metadata": {
    "colab": {
     "base_uri": "https://localhost:8080/"
    },
    "executionInfo": {
     "elapsed": 4033,
     "status": "ok",
     "timestamp": 1635096412678,
     "user": {
      "displayName": "alankrantas",
      "photoUrl": "https://lh3.googleusercontent.com/a-/AOh14GhDYBaFXq1fszi40PRbrnFB3PL2vzFVMyFJPuuLmhU=s64",
      "userId": "01089948263367265529"
     },
     "user_tz": -480
    },
    "id": "dmuxSojeIBjK",
    "outputId": "6849b7a1-2678-4b5e-94b9-ee70dd753d7d"
   },
   "outputs": [
    {
     "name": "stdout",
     "output_type": "stream",
     "text": [
      "(3532,)\n",
      "(2351,)\n"
     ]
    }
   ],
   "source": [
    "categories = ['comp.sys.ibm.pc.hardware',\n",
    "              'rec.autos',\n",
    "              'rec.sport.baseball', \n",
    "              'sci.med',\n",
    "              'sci.space',\n",
    "              'talk.politics.mideast']\n",
    "\n",
    "train = fetch_20newsgroups(subset='train', \n",
    "                           categories=categories,\n",
    "                           remove=('headers', 'footers', 'quotes'))\n",
    "test = fetch_20newsgroups(subset='test',\n",
    "                          categories=categories,\n",
    "                          remove=('headers', 'footers', 'quotes'))\n",
    "\n",
    "x_train = np.array(train.data)\n",
    "y_train = np.array(train.target)\n",
    "x_test = np.array(test.data)\n",
    "y_test = np.array(test.target)\n",
    "\n",
    "print(x_train.shape)\n",
    "print(x_test.shape)"
   ]
  },
  {
   "cell_type": "code",
   "execution_count": 6,
   "metadata": {
    "colab": {
     "base_uri": "https://localhost:8080/",
     "height": 297
    },
    "executionInfo": {
     "elapsed": 968,
     "status": "ok",
     "timestamp": 1635096434131,
     "user": {
      "displayName": "alankrantas",
      "photoUrl": "https://lh3.googleusercontent.com/a-/AOh14GhDYBaFXq1fszi40PRbrnFB3PL2vzFVMyFJPuuLmhU=s64",
      "userId": "01089948263367265529"
     },
     "user_tz": -480
    },
    "id": "Il97ceOJXqZS",
    "outputId": "42eaf181-a2f0-445c-ce46-1da596147bcc"
   },
   "outputs": [
    {
     "data": {
      "image/png": "[encoded data removed]",
      "text/plain": [
       "<Figure size 432x288 with 2 Axes>"
      ]
     },
     "metadata": {
      "needs_background": "light"
     },
     "output_type": "display_data"
    }
   ],
   "source": [
    "fig = plt.figure()\n",
    "bin = np.arange(len(categories) + 1)\n",
    "\n",
    "labels = ('PC hardware', 'Automobile', 'Baseball', \n",
    "          'Medicine', 'Space', 'Politics', '')\n",
    "\n",
    "ax = fig.add_subplot(1, 2, 1)\n",
    "ax.set_xticks(bin)\n",
    "ax.set_xticklabels(labels, rotation=90)\n",
    "plt.hist(y_train, bins=bin-0.5, rwidth=0.9)\n",
    "ax.set_title('Train dataset histogram')\n",
    "\n",
    "ax = fig.add_subplot(1, 2, 2)\n",
    "ax.set_xticks(bin)\n",
    "ax.set_xticklabels(labels, rotation=90)\n",
    "plt.hist(y_test, bins=bin-0.5, rwidth=0.9)\n",
    "ax.set_title('Test dataset histogram')\n",
    "\n",
    "plt.tight_layout()\n",
    "plt.show()"
   ]
  },
  {
   "cell_type": "code",
   "execution_count": 7,
   "metadata": {
    "colab": {
     "base_uri": "https://localhost:8080/"
    },
    "executionInfo": {
     "elapsed": 2244530,
     "status": "ok",
     "timestamp": 1635107613067,
     "user": {
      "displayName": "alankrantas",
      "photoUrl": "https://lh3.googleusercontent.com/a-/AOh14GhDYBaFXq1fszi40PRbrnFB3PL2vzFVMyFJPuuLmhU=s64",
      "userId": "01089948263367265529"
     },
     "user_tz": -480
    },
    "id": "3uwgN3Z0IBjM",
    "outputId": "01c603a3-813f-437b-d16d-fabb872c318e",
    "scrolled": false
   },
   "outputs": [
    {
     "name": "stdout",
     "output_type": "stream",
     "text": [
      "\n",
      "Search: Running Trial #1\n",
      "\n",
      "Value             |Best Value So Far |Hyperparameter\n",
      "64                |?                 |text_to_int_sequence_1/output_sequence_length\n",
      "word2vec          |?                 |embedding_1/pretraining\n",
      "128               |?                 |embedding_1/embedding_dim\n",
      "0.25              |?                 |embedding_1/dropout\n",
      "3                 |?                 |conv_block_1/kernel_size\n",
      "1                 |?                 |conv_block_1/num_blocks\n",
      "2                 |?                 |conv_block_1/num_layers\n",
      "32                |?                 |conv_block_1/filters_0_0\n",
      "32                |?                 |conv_block_1/filters_0_1\n",
      "0                 |?                 |conv_block_1/dropout\n",
      "0                 |?                 |classification_head_1/dropout\n",
      "adam              |?                 |optimizer\n",
      "0.001             |?                 |learning_rate\n",
      "\n",
      "Epoch 1/1000\n",
      "89/89 [==============================] - 36s 374ms/step - loss: 1.7917 - accuracy: 0.1678 - val_loss: 1.7920 - val_accuracy: 0.2135\n",
      "Epoch 2/1000\n",
      "89/89 [==============================] - ETA: 0s - loss: 1.7842 - accuracy: 0.2015"
     ]
    },
    {
     "ename": "",
     "evalue": "",
     "output_type": "error",
     "traceback": [
      "\u001b[1;31mCanceled future for execute_request message before replies were done"
     ]
    },
    {
     "ename": "",
     "evalue": "",
     "output_type": "error",
     "traceback": [
      "\u001b[1;31mThe Kernel crashed while executing code in the the current cell or a previous cell. Please review the code in the cell(s) to identify a possible cause of the failure. Click <a href='https://aka.ms/vscodeJupyterKernelCrash'>here</a> for more info. View Jupyter <a href='command:jupyter.viewOutput'>log</a> for further details."
     ]
    }
   ],
   "source": [
    "from keras_tuner.engine.hyperparameters import Choice\n",
    "\n",
    "pretraining = Choice(name='pretraining', values=['word2vec'])\n",
    "num_blocks = Choice(name='num_blocks', values=[1])\n",
    "\n",
    "cbs = [tf.keras.callbacks.EarlyStopping(patience=3)]\n",
    "\n",
    "input_node = ak.TextInput()\n",
    "\n",
    "output_node = ak.TextToIntSequence(max_tokens=50000)(input_node)\n",
    "output_node = ak.Embedding(\n",
    "    pretraining=pretraining, max_features=50000)(output_node)\n",
    "output_node = ak.ConvBlock( \n",
    "    num_blocks=num_blocks, separable=True, max_pooling=True)(output_node)\n",
    "output_node = ak.SpatialReduction(reduction_type='global_max')(output_node)\n",
    "output_node = ak.ClassificationHead()(output_node)\n",
    "\n",
    "clf = ak.AutoModel(inputs=input_node, outputs=output_node, \n",
    "                   max_trials=20, overwrite=True)\n",
    "clf.fit(x_train, y_train, callbacks=cbs)"
   ]
  },
  {
   "cell_type": "code",
   "execution_count": null,
   "metadata": {
    "colab": {
     "base_uri": "https://localhost:8080/"
    },
    "executionInfo": {
     "elapsed": 8092,
     "status": "ok",
     "timestamp": 1635107622037,
     "user": {
      "displayName": "alankrantas",
      "photoUrl": "https://lh3.googleusercontent.com/a-/AOh14GhDYBaFXq1fszi40PRbrnFB3PL2vzFVMyFJPuuLmhU=s64",
      "userId": "01089948263367265529"
     },
     "user_tz": -480
    },
    "id": "NgCErsD6IBjM",
    "outputId": "28767579-9c46-433a-8d7a-f87655dc5393"
   },
   "outputs": [],
   "source": [
    "clf.evaluate(x_test, y_test)"
   ]
  },
  {
   "cell_type": "code",
   "execution_count": null,
   "metadata": {
    "colab": {
     "base_uri": "https://localhost:8080/"
    },
    "executionInfo": {
     "elapsed": 6902,
     "status": "ok",
     "timestamp": 1635108290271,
     "user": {
      "displayName": "alankrantas",
      "photoUrl": "https://lh3.googleusercontent.com/a-/AOh14GhDYBaFXq1fszi40PRbrnFB3PL2vzFVMyFJPuuLmhU=s64",
      "userId": "01089948263367265529"
     },
     "user_tz": -480
    },
    "id": "bZheVQQKJRR9",
    "outputId": "71c6c4f3-c5f5-425f-91b7-93afe9f4e12c"
   },
   "outputs": [],
   "source": [
    "predicted = clf.predict(x_test).flatten().astype('uint8')\n",
    "\n",
    "for i in range(10):\n",
    "    print('TEXT [')\n",
    "    print(x_test[i].strip()[:400])\n",
    "    print(f'] PREDICTED: {labels[predicted[i]]}, REAL: {labels[y_test[i]]}')\n",
    "    print('')"
   ]
  },
  {
   "cell_type": "code",
   "execution_count": null,
   "metadata": {
    "colab": {
     "base_uri": "https://localhost:8080/"
    },
    "executionInfo": {
     "elapsed": 308,
     "status": "ok",
     "timestamp": 1635107723094,
     "user": {
      "displayName": "alankrantas",
      "photoUrl": "https://lh3.googleusercontent.com/a-/AOh14GhDYBaFXq1fszi40PRbrnFB3PL2vzFVMyFJPuuLmhU=s64",
      "userId": "01089948263367265529"
     },
     "user_tz": -480
    },
    "id": "8clAUW2_6yze",
    "outputId": "d457dddb-d635-4597-bfbc-61ff9a3a729c"
   },
   "outputs": [],
   "source": [
    "labels = ('PC hardware', 'Automobile', 'Baseball', \n",
    "          'Medicine', 'Space', 'Politics')\n",
    "\n",
    "from sklearn.metrics import classification_report\n",
    "print(classification_report(y_test, predicted, target_names=labels))"
   ]
  },
  {
   "cell_type": "code",
   "execution_count": null,
   "metadata": {
    "colab": {
     "base_uri": "https://localhost:8080/"
    },
    "executionInfo": {
     "elapsed": 1397,
     "status": "ok",
     "timestamp": 1635108425391,
     "user": {
      "displayName": "alankrantas",
      "photoUrl": "https://lh3.googleusercontent.com/a-/AOh14GhDYBaFXq1fszi40PRbrnFB3PL2vzFVMyFJPuuLmhU=s64",
      "userId": "01089948263367265529"
     },
     "user_tz": -480
    },
    "id": "wp8xqGZBIBjN",
    "outputId": "db133964-e25e-498c-fae7-faef4b2fe52f"
   },
   "outputs": [],
   "source": [
    "model = clf.export_model()\n",
    "model.summary()"
   ]
  },
  {
   "cell_type": "code",
   "execution_count": null,
   "metadata": {
    "colab": {
     "base_uri": "https://localhost:8080/",
     "height": 1000
    },
    "executionInfo": {
     "elapsed": 1345,
     "status": "ok",
     "timestamp": 1635108450232,
     "user": {
      "displayName": "alankrantas",
      "photoUrl": "https://lh3.googleusercontent.com/a-/AOh14GhDYBaFXq1fszi40PRbrnFB3PL2vzFVMyFJPuuLmhU=s64",
      "userId": "01089948263367265529"
     },
     "user_tz": -480
    },
    "id": "6twouYtRIBjN",
    "outputId": "c1748ed7-4f4f-47e5-bf33-f70e425b46e3"
   },
   "outputs": [],
   "source": [
    "from tensorflow.keras.utils import plot_model\n",
    "plot_model(model)"
   ]
  }
 ],
 "metadata": {
  "colab": {
   "collapsed_sections": [],
   "name": "newsgroups.ipynb",
   "provenance": []
  },
  "kernelspec": {
   "display_name": "Python 3.9.2 64-bit",
   "language": "python",
   "name": "python3"
  },
  "language_info": {
   "codemirror_mode": {
    "name": "ipython",
    "version": 3
   },
   "file_extension": ".py",
   "mimetype": "text/x-python",
   "name": "python",
   "nbconvert_exporter": "python",
   "pygments_lexer": "ipython3",
   "version": "3.9.2"
  },
  "vscode": {
   "interpreter": {
    "hash": "e7370f93d1d0cde622a1f8e1c04877d8463912d04d973331ad4851f04de6915a"
   }
  }
 },
 "nbformat": 4,
 "nbformat_minor": 1
}
